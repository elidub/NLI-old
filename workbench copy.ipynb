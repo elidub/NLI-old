{
 "cells": [
  {
   "cell_type": "code",
   "execution_count": 1,
   "metadata": {},
   "outputs": [],
   "source": [
    "%load_ext autoreload\n",
    "%autoreload 2"
   ]
  },
  {
   "cell_type": "code",
   "execution_count": 2,
   "metadata": {},
   "outputs": [
    {
     "name": "stderr",
     "output_type": "stream",
     "text": [
      "[nltk_data] Downloading package punkt to /home/lcur1112/nltk_data...\n",
      "[nltk_data]   Package punkt is already up-to-date!\n",
      "[nltk_data] Downloading package punkt to /home/lcur1112/nltk_data...\n",
      "[nltk_data]   Package punkt is already up-to-date!\n"
     ]
    }
   ],
   "source": [
    "import sys\n",
    "sys.path.insert(0, 'nli/')\n",
    "from plot import PlotResults\n",
    "import numpy as np\n",
    "import torch\n",
    "from torch import nn\n",
    "import nltk\n",
    "nltk.download('punkt')\n",
    "from matplotlib import pyplot as plt\n",
    "import os\n",
    "\n",
    "from setup import load_model, prep_sent, find_checkpoint, setup_vocab\n",
    "from results import Args, NLIResults"
   ]
  },
  {
   "cell_type": "code",
   "execution_count": 3,
   "metadata": {},
   "outputs": [],
   "source": [
    "model_types = ['avg_word_emb', 'uni_lstm', 'bi_lstm', 'max_pool_lstm']\n",
    "\n",
    "embs = []\n",
    "\n",
    "for model_type in model_types:\n",
    "    _, version_path = find_checkpoint(model_type, 'version_0')\n",
    "    preds =  torch.load(os.path.join(version_path, 'store/test_preds.pt'))\n",
    "    trues =  torch.load(os.path.join(version_path, 'store/test_trues.pt'))\n",
    "    emb   = torch.load(os.path.join(version_path, 'store/test_emb.pt'))\n",
    "    embs.append(emb)"
   ]
  },
  {
   "cell_type": "code",
   "execution_count": 4,
   "metadata": {},
   "outputs": [],
   "source": [
    " # device preds into a dictionary based upon the value of true\n",
    "pred_dict = {true.item() : torch.tensor([]) for true in trues.unique()}\n",
    "for pred, true in zip(preds, trues):\n",
    "    pred_dict[true.item()] = torch.cat((pred_dict[true.item()], pred.unsqueeze(0)), dim = 0)"
   ]
  },
  {
   "cell_type": "code",
   "execution_count": 11,
   "metadata": {},
   "outputs": [
    {
     "data": {
      "text/plain": [
       "tensor(0.9044)"
      ]
     },
     "execution_count": 11,
     "metadata": {},
     "output_type": "execute_result"
    },
    {
     "ename": "",
     "evalue": "",
     "output_type": "error",
     "traceback": [
      "\u001b[1;31mThe Kernel crashed while executing code in the the current cell or a previous cell. Please review the code in the cell(s) to identify a possible cause of the failure. Click <a href='https://aka.ms/vscodeJupyterKernelCrash'>here</a> for more info. View Jupyter <a href='command:jupyter.viewOutput'>log</a> for further details."
     ]
    }
   ],
   "source": [
    "torch.max(pred_dict[0], dim = 1).values.mean()"
   ]
  }
 ],
 "metadata": {
  "kernelspec": {
   "display_name": "Python 3",
   "language": "python",
   "name": "python3"
  },
  "language_info": {
   "codemirror_mode": {
    "name": "ipython",
    "version": 3
   },
   "file_extension": ".py",
   "mimetype": "text/x-python",
   "name": "python",
   "nbconvert_exporter": "python",
   "pygments_lexer": "ipython3",
   "version": "3.10.6"
  },
  "orig_nbformat": 4
 },
 "nbformat": 4,
 "nbformat_minor": 2
}
