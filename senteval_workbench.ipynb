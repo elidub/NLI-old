{
 "cells": [
  {
   "cell_type": "code",
   "execution_count": 2,
   "metadata": {},
   "outputs": [],
   "source": [
    "%load_ext autoreload\n",
    "%autoreload 2"
   ]
  },
  {
   "cell_type": "code",
   "execution_count": 3,
   "metadata": {},
   "outputs": [],
   "source": [
    "import os"
   ]
  },
  {
   "cell_type": "code",
   "execution_count": 4,
   "metadata": {},
   "outputs": [
    {
     "data": {
      "text/plain": [
       "['.git',\n",
       " 'README.md',\n",
       " 'jobs',\n",
       " 'env_nli.yml',\n",
       " 'env_nli_cpu.yml',\n",
       " 'nli',\n",
       " 'senteval_example.ipynb',\n",
       " 'SentEval',\n",
       " '.gitignore',\n",
       " 'store',\n",
       " 'lightning_logs',\n",
       " 'train.ipynb',\n",
       " 'workbench.ipynb',\n",
       " 'workbench.py',\n",
       " 'data',\n",
       " 'senteval_workbench.ipynb']"
      ]
     },
     "execution_count": 4,
     "metadata": {},
     "output_type": "execute_result"
    }
   ],
   "source": [
    "os.listdir()"
   ]
  },
  {
   "cell_type": "code",
   "execution_count": 5,
   "metadata": {},
   "outputs": [],
   "source": [
    "# Copyright (c) 2017-present, Facebook, Inc.\n",
    "# All rights reserved.\n",
    "#\n",
    "# This source code is licensed under the license found in the\n",
    "# LICENSE file in the root directory of this source tree.\n",
    "#\n",
    "\n",
    "from __future__ import absolute_import, division, unicode_literals\n",
    "\n",
    "import sys\n",
    "import numpy as np\n",
    "import logging\n",
    "import sklearn\n",
    "import data\n",
    "import pickle\n",
    "\n"
   ]
  },
  {
   "cell_type": "code",
   "execution_count": 6,
   "metadata": {},
   "outputs": [
    {
     "ename": "KeyboardInterrupt",
     "evalue": "",
     "output_type": "error",
     "traceback": [
      "\u001b[0;31m---------------------------------------------------------------------------\u001b[0m",
      "\u001b[0;31mKeyboardInterrupt\u001b[0m                         Traceback (most recent call last)",
      "Cell \u001b[0;32mIn[6], line 4\u001b[0m\n\u001b[1;32m      1\u001b[0m \u001b[39mfrom\u001b[39;00m \u001b[39mnli\u001b[39;00m\u001b[39m.\u001b[39;00m\u001b[39mdata\u001b[39;00m \u001b[39mimport\u001b[39;00m DataSetPadding\n\u001b[1;32m      2\u001b[0m \u001b[39mfrom\u001b[39;00m \u001b[39mdatasets\u001b[39;00m \u001b[39mimport\u001b[39;00m load_from_disk\n\u001b[0;32m----> 4\u001b[0m \u001b[39mfrom\u001b[39;00m \u001b[39mnli\u001b[39;00m\u001b[39m.\u001b[39;00m\u001b[39mpreprocess\u001b[39;00m \u001b[39mimport\u001b[39;00m get_vocab, get_glove, create_wordvec\n",
      "File \u001b[0;32m~/NLI/nli/preprocess.py:9\u001b[0m\n\u001b[1;32m      7\u001b[0m \u001b[39mimport\u001b[39;00m \u001b[39mpickle\u001b[39;00m\n\u001b[1;32m      8\u001b[0m \u001b[39mimport\u001b[39;00m \u001b[39mtorch\u001b[39;00m\n\u001b[0;32m----> 9\u001b[0m \u001b[39mimport\u001b[39;00m \u001b[39mnltk\u001b[39;00m\n\u001b[1;32m     10\u001b[0m nltk\u001b[39m.\u001b[39mdownload(\u001b[39m'\u001b[39m\u001b[39mpunkt\u001b[39m\u001b[39m'\u001b[39m)\n\u001b[1;32m     15\u001b[0m \u001b[39m####### Download and pre-process the SNLI dataset #######\u001b[39;00m\n",
      "File \u001b[0;32m~/.conda/envs/nli/lib/python3.10/site-packages/nltk/__init__.py:134\u001b[0m\n\u001b[1;32m    132\u001b[0m \u001b[39mfrom\u001b[39;00m \u001b[39mnltk\u001b[39;00m\u001b[39m.\u001b[39;00m\u001b[39mcollocations\u001b[39;00m \u001b[39mimport\u001b[39;00m \u001b[39m*\u001b[39m\n\u001b[1;32m    133\u001b[0m \u001b[39mfrom\u001b[39;00m \u001b[39mnltk\u001b[39;00m\u001b[39m.\u001b[39;00m\u001b[39mdecorators\u001b[39;00m \u001b[39mimport\u001b[39;00m decorator, memoize\n\u001b[0;32m--> 134\u001b[0m \u001b[39mfrom\u001b[39;00m \u001b[39mnltk\u001b[39;00m\u001b[39m.\u001b[39;00m\u001b[39mfeatstruct\u001b[39;00m \u001b[39mimport\u001b[39;00m \u001b[39m*\u001b[39m\n\u001b[1;32m    135\u001b[0m \u001b[39mfrom\u001b[39;00m \u001b[39mnltk\u001b[39;00m\u001b[39m.\u001b[39;00m\u001b[39mgrammar\u001b[39;00m \u001b[39mimport\u001b[39;00m \u001b[39m*\u001b[39m\n\u001b[1;32m    136\u001b[0m \u001b[39mfrom\u001b[39;00m \u001b[39mnltk\u001b[39;00m\u001b[39m.\u001b[39;00m\u001b[39mprobability\u001b[39;00m \u001b[39mimport\u001b[39;00m \u001b[39m*\u001b[39m\n",
      "File \u001b[0;32m~/.conda/envs/nli/lib/python3.10/site-packages/nltk/featstruct.py:97\u001b[0m\n\u001b[1;32m     94\u001b[0m \u001b[39mfrom\u001b[39;00m \u001b[39mfunctools\u001b[39;00m \u001b[39mimport\u001b[39;00m total_ordering\n\u001b[1;32m     96\u001b[0m \u001b[39mfrom\u001b[39;00m \u001b[39mnltk\u001b[39;00m\u001b[39m.\u001b[39;00m\u001b[39minternals\u001b[39;00m \u001b[39mimport\u001b[39;00m raise_unorderable_types, read_str\n\u001b[0;32m---> 97\u001b[0m \u001b[39mfrom\u001b[39;00m \u001b[39mnltk\u001b[39;00m\u001b[39m.\u001b[39;00m\u001b[39msem\u001b[39;00m\u001b[39m.\u001b[39;00m\u001b[39mlogic\u001b[39;00m \u001b[39mimport\u001b[39;00m (\n\u001b[1;32m     98\u001b[0m     Expression,\n\u001b[1;32m     99\u001b[0m     LogicalExpressionException,\n\u001b[1;32m    100\u001b[0m     LogicParser,\n\u001b[1;32m    101\u001b[0m     SubstituteBindingsI,\n\u001b[1;32m    102\u001b[0m     Variable,\n\u001b[1;32m    103\u001b[0m )\n\u001b[1;32m    105\u001b[0m \u001b[39m######################################################################\u001b[39;00m\n\u001b[1;32m    106\u001b[0m \u001b[39m# Feature Structure\u001b[39;00m\n\u001b[1;32m    107\u001b[0m \u001b[39m######################################################################\u001b[39;00m\n\u001b[1;32m    110\u001b[0m \u001b[39m@total_ordering\u001b[39m\n\u001b[1;32m    111\u001b[0m \u001b[39mclass\u001b[39;00m \u001b[39mFeatStruct\u001b[39;00m(SubstituteBindingsI):\n",
      "File \u001b[0;32m~/.conda/envs/nli/lib/python3.10/site-packages/nltk/sem/__init__.py:44\u001b[0m\n\u001b[1;32m      1\u001b[0m \u001b[39m# Natural Language Toolkit: Semantic Interpretation\u001b[39;00m\n\u001b[1;32m      2\u001b[0m \u001b[39m#\u001b[39;00m\n\u001b[1;32m      3\u001b[0m \u001b[39m# Copyright (C) 2001-2022 NLTK Project\u001b[39;00m\n\u001b[1;32m      4\u001b[0m \u001b[39m# Author: Ewan Klein <ewan@inf.ed.ac.uk>\u001b[39;00m\n\u001b[1;32m      5\u001b[0m \u001b[39m# URL: <https://www.nltk.org/>\u001b[39;00m\n\u001b[1;32m      6\u001b[0m \u001b[39m# For license information, see LICENSE.TXT\u001b[39;00m\n\u001b[1;32m      8\u001b[0m \u001b[39m\"\"\"\u001b[39;00m\n\u001b[1;32m      9\u001b[0m \u001b[39mNLTK Semantic Interpretation Package\u001b[39;00m\n\u001b[1;32m     10\u001b[0m \n\u001b[0;32m   (...)\u001b[0m\n\u001b[1;32m     41\u001b[0m \u001b[39m    >>> m = Model(dom, val)\u001b[39;00m\n\u001b[1;32m     42\u001b[0m \u001b[39m\"\"\"\u001b[39;00m\n\u001b[0;32m---> 44\u001b[0m \u001b[39mfrom\u001b[39;00m \u001b[39mnltk\u001b[39;00m\u001b[39m.\u001b[39;00m\u001b[39msem\u001b[39;00m\u001b[39m.\u001b[39;00m\u001b[39mboxer\u001b[39;00m \u001b[39mimport\u001b[39;00m Boxer\n\u001b[1;32m     45\u001b[0m \u001b[39mfrom\u001b[39;00m \u001b[39mnltk\u001b[39;00m\u001b[39m.\u001b[39;00m\u001b[39msem\u001b[39;00m\u001b[39m.\u001b[39;00m\u001b[39mdrt\u001b[39;00m \u001b[39mimport\u001b[39;00m DRS, DrtExpression\n\u001b[1;32m     46\u001b[0m \u001b[39mfrom\u001b[39;00m \u001b[39mnltk\u001b[39;00m\u001b[39m.\u001b[39;00m\u001b[39msem\u001b[39;00m\u001b[39m.\u001b[39;00m\u001b[39mevaluate\u001b[39;00m \u001b[39mimport\u001b[39;00m (\n\u001b[1;32m     47\u001b[0m     Assignment,\n\u001b[1;32m     48\u001b[0m     Model,\n\u001b[0;32m   (...)\u001b[0m\n\u001b[1;32m     54\u001b[0m     set2rel,\n\u001b[1;32m     55\u001b[0m )\n",
      "File \u001b[0;32m~/.conda/envs/nli/lib/python3.10/site-packages/nltk/sem/boxer.py:40\u001b[0m\n\u001b[1;32m     37\u001b[0m \u001b[39mfrom\u001b[39;00m \u001b[39moptparse\u001b[39;00m \u001b[39mimport\u001b[39;00m OptionParser\n\u001b[1;32m     39\u001b[0m \u001b[39mfrom\u001b[39;00m \u001b[39mnltk\u001b[39;00m\u001b[39m.\u001b[39;00m\u001b[39minternals\u001b[39;00m \u001b[39mimport\u001b[39;00m find_binary\n\u001b[0;32m---> 40\u001b[0m \u001b[39mfrom\u001b[39;00m \u001b[39mnltk\u001b[39;00m\u001b[39m.\u001b[39;00m\u001b[39msem\u001b[39;00m\u001b[39m.\u001b[39;00m\u001b[39mdrt\u001b[39;00m \u001b[39mimport\u001b[39;00m (\n\u001b[1;32m     41\u001b[0m     DRS,\n\u001b[1;32m     42\u001b[0m     DrtApplicationExpression,\n\u001b[1;32m     43\u001b[0m     DrtEqualityExpression,\n\u001b[1;32m     44\u001b[0m     DrtNegatedExpression,\n\u001b[1;32m     45\u001b[0m     DrtOrExpression,\n\u001b[1;32m     46\u001b[0m     DrtParser,\n\u001b[1;32m     47\u001b[0m     DrtProposition,\n\u001b[1;32m     48\u001b[0m     DrtTokens,\n\u001b[1;32m     49\u001b[0m     DrtVariableExpression,\n\u001b[1;32m     50\u001b[0m )\n\u001b[1;32m     51\u001b[0m \u001b[39mfrom\u001b[39;00m \u001b[39mnltk\u001b[39;00m\u001b[39m.\u001b[39;00m\u001b[39msem\u001b[39;00m\u001b[39m.\u001b[39;00m\u001b[39mlogic\u001b[39;00m \u001b[39mimport\u001b[39;00m (\n\u001b[1;32m     52\u001b[0m     ExpectedMoreTokensException,\n\u001b[1;32m     53\u001b[0m     LogicalExpressionException,\n\u001b[1;32m     54\u001b[0m     UnexpectedTokenException,\n\u001b[1;32m     55\u001b[0m     Variable,\n\u001b[1;32m     56\u001b[0m )\n\u001b[1;32m     59\u001b[0m \u001b[39mclass\u001b[39;00m \u001b[39mBoxer\u001b[39;00m:\n",
      "File \u001b[0;32m~/.conda/envs/nli/lib/python3.10/site-packages/nltk/sem/drt.py:43\u001b[0m\n\u001b[1;32m     41\u001b[0m \u001b[39m# Import Tkinter-based modules if they are available\u001b[39;00m\n\u001b[1;32m     42\u001b[0m \u001b[39mtry\u001b[39;00m:\n\u001b[0;32m---> 43\u001b[0m     \u001b[39mfrom\u001b[39;00m \u001b[39mtkinter\u001b[39;00m \u001b[39mimport\u001b[39;00m Canvas, Tk\n\u001b[1;32m     44\u001b[0m     \u001b[39mfrom\u001b[39;00m \u001b[39mtkinter\u001b[39;00m\u001b[39m.\u001b[39;00m\u001b[39mfont\u001b[39;00m \u001b[39mimport\u001b[39;00m Font\n\u001b[1;32m     46\u001b[0m     \u001b[39mfrom\u001b[39;00m \u001b[39mnltk\u001b[39;00m\u001b[39m.\u001b[39;00m\u001b[39mutil\u001b[39;00m \u001b[39mimport\u001b[39;00m in_idle\n",
      "File \u001b[0;32m~/.conda/envs/nli/lib/python3.10/tkinter/__init__.py:37\u001b[0m\n\u001b[1;32m     34\u001b[0m \u001b[39mimport\u001b[39;00m \u001b[39msys\u001b[39;00m\n\u001b[1;32m     35\u001b[0m \u001b[39mimport\u001b[39;00m \u001b[39mtypes\u001b[39;00m\n\u001b[0;32m---> 37\u001b[0m \u001b[39mimport\u001b[39;00m \u001b[39m_tkinter\u001b[39;00m \u001b[39m# If this fails your Python may not be configured for Tk\u001b[39;00m\n\u001b[1;32m     38\u001b[0m TclError \u001b[39m=\u001b[39m _tkinter\u001b[39m.\u001b[39mTclError\n\u001b[1;32m     39\u001b[0m \u001b[39mfrom\u001b[39;00m \u001b[39mtkinter\u001b[39;00m\u001b[39m.\u001b[39;00m\u001b[39mconstants\u001b[39;00m \u001b[39mimport\u001b[39;00m \u001b[39m*\u001b[39m\n",
      "\u001b[0;31mKeyboardInterrupt\u001b[0m: "
     ]
    }
   ],
   "source": [
    "from nli.data import DataSetPadding\n",
    "from datasets import load_from_disk\n",
    "\n",
    "from nli.preprocess import get_vocab, get_glove, create_wordvec"
   ]
  },
  {
   "cell_type": "code",
   "execution_count": null,
   "metadata": {},
   "outputs": [],
   "source": [
    "with open('store/wordvec.pkl', 'rb') as f:\n",
    "    wordvec = pickle.load(f)\n",
    "dataset_snli = load_from_disk('data/snli')"
   ]
  },
  {
   "cell_type": "code",
   "execution_count": null,
   "metadata": {},
   "outputs": [],
   "source": [
    "# Create dictionary\n",
    "def create_dictionary(sentences, threshold=0):\n",
    "    words = {}\n",
    "    for s in sentences:\n",
    "        for word in s:\n",
    "            words[word] = words.get(word, 0) + 1\n",
    "\n",
    "    if threshold > 0:\n",
    "        newwords = {}\n",
    "        for word in words:\n",
    "            if words[word] >= threshold:\n",
    "                newwords[word] = words[word]\n",
    "        words = newwords\n",
    "    words['<s>'] = 1e9 + 4\n",
    "    words['</s>'] = 1e9 + 3\n",
    "    words['<p>'] = 1e9 + 2\n",
    "\n",
    "    sorted_words = sorted(words.items(), key=lambda x: -x[1])  # inverse sort\n",
    "    id2word = []\n",
    "    word2id = {}\n",
    "    for i, (w, _) in enumerate(sorted_words):\n",
    "        id2word.append(w)\n",
    "        word2id[w] = i\n",
    "\n",
    "    return id2word, word2id\n",
    "\n",
    "# Get word vectors from vocabulary (glove, word2vec, fasttext ..)\n",
    "def get_wordvec(path_to_vec, word2id):\n",
    "    word_vec = {}\n",
    "\n",
    "    with io.open(path_to_vec, 'r', encoding='utf-8') as f:\n",
    "        # if word2vec or fasttext file : skip first line \"next(f)\"\n",
    "        for line in f:\n",
    "            word, vec = line.split(' ', 1)\n",
    "            if word in word2id:\n",
    "                word_vec[word] = np.fromstring(vec, sep=' ')\n",
    "\n",
    "    logging.info('Found {0} words with word vectors, out of \\\n",
    "        {1} words'.format(len(word_vec), len(word2id)))\n",
    "    return word_vec"
   ]
  },
  {
   "cell_type": "code",
   "execution_count": null,
   "metadata": {},
   "outputs": [],
   "source": [
    "train_samples = dataset_snli['train']['premise'] + dataset_snli['train']['hypothesis']\n",
    "\n",
    "id2word, word2id = create_dictionary(train_samples, threshold=0)"
   ]
  },
  {
   "cell_type": "code",
   "execution_count": null,
   "metadata": {},
   "outputs": [
    {
     "ename": "NameError",
     "evalue": "name 'sys' is not defined",
     "output_type": "error",
     "traceback": [
      "\u001b[0;31m---------------------------------------------------------------------------\u001b[0m",
      "\u001b[0;31mNameError\u001b[0m                                 Traceback (most recent call last)",
      "Cell \u001b[0;32mIn[1], line 11\u001b[0m\n\u001b[1;32m      7\u001b[0m PATH_TO_VEC \u001b[39m=\u001b[39m \u001b[39m'\u001b[39m\u001b[39m/data/glove.840B.300d.txt\u001b[39m\u001b[39m'\u001b[39m\n\u001b[1;32m     10\u001b[0m \u001b[39m# import SentEval\u001b[39;00m\n\u001b[0;32m---> 11\u001b[0m sys\u001b[39m.\u001b[39mpath\u001b[39m.\u001b[39minsert(\u001b[39m0\u001b[39m, PATH_TO_SENTEVAL)\n\u001b[1;32m     12\u001b[0m \u001b[39mimport\u001b[39;00m \u001b[39msenteval\u001b[39;00m\n\u001b[1;32m     15\u001b[0m \u001b[39mdef\u001b[39;00m \u001b[39mprepare\u001b[39m(params, samples):\n",
      "\u001b[0;31mNameError\u001b[0m: name 'sys' is not defined"
     ]
    }
   ],
   "source": [
    "\n",
    "# Set PATHs\n",
    "# path to senteval\n",
    "PATH_TO_SENTEVAL = '.'\n",
    "# path to the NLP datasets \n",
    "PATH_TO_DATA = './SentEval/data'\n",
    "# path to glove embeddings\n",
    "PATH_TO_VEC = '/data/glove.840B.300d.txt'\n",
    "\n",
    "\n",
    "# import SentEval\n",
    "sys.path.insert(0, PATH_TO_SENTEVAL)\n",
    "import senteval\n",
    "\n",
    "\n",
    "def prepare(params, samples):\n",
    "    \"\"\"\n",
    "    In this example we are going to load Glove, \n",
    "    here you will initialize your model.\n",
    "    remember to add what you model needs into the params dictionary\n",
    "    \"\"\"\n",
    "    _, params.word2id = create_dictionary(samples)\n",
    "    # load glove/word2vec format \n",
    "    params.word_vec = get_wordvec(PATH_TO_VEC, params.word2id)\n",
    "    # dimensionality of glove embeddings\n",
    "    params.wvec_dim = 300\n",
    "    return\n",
    "\n",
    "def batcher(params, batch):\n",
    "    \"\"\"\n",
    "    In this example we use the average of word embeddings as a sentence representation.\n",
    "    Each batch consists of one vector for sentence.\n",
    "    Here you can process each sentence of the batch, \n",
    "    or a complete batch (you may need masking for that).\n",
    "    \n",
    "    \"\"\"\n",
    "    # if a sentence is empty dot is set to be the only token\n",
    "    # you can change it into NULL dependening in your model\n",
    "    batch = [sent if sent != [] else ['.'] for sent in batch]\n",
    "    embeddings = []\n",
    "\n",
    "    for sent in batch:\n",
    "        sentvec = []\n",
    "        # the format of a sentence is a lists of words (tokenized and lowercased)\n",
    "        for word in sent:\n",
    "            if word in params.word_vec:\n",
    "                # [number of words, embedding dimensionality]\n",
    "                sentvec.append(params.word_vec[word])\n",
    "        if not sentvec:\n",
    "            vec = np.zeros(params.wvec_dim)\n",
    "            # [number of words, embedding dimensionality]\n",
    "            sentvec.append(vec)\n",
    "        # average of word embeddings for sentence representation\n",
    "        # [embedding dimansionality]\n",
    "        sentvec = np.mean(sentvec, 0)\n",
    "        embeddings.append(sentvec)\n",
    "    # [batch size, embedding dimensionality]\n",
    "    embeddings = np.vstack(embeddings)\n",
    "    return embeddings\n",
    "\n",
    "\n",
    "# Set params for SentEval\n",
    "# we use logistic regression (usepytorch: Fasle) and kfold 10\n",
    "# In this dictionary you can add extra information that you model needs for initialization\n",
    "# for example the path to a dictionary of indices, of hyper parameters\n",
    "# this dictionary is passed to the batched and the prepare fucntions\n",
    "params_senteval = {'task_path': PATH_TO_DATA, 'usepytorch': False, 'kfold': 10}\n",
    "# this is the config for the NN classifier but we are going to use scikit-learn logistic regression with 10 kfold\n",
    "# usepytorch = False \n",
    "params_senteval['classifier'] = {'nhid': 0, 'optim': 'rmsprop', 'batch_size': 128,\n",
    "                                'tenacity': 3, 'epoch_size': 2}\n",
    "\n",
    "# Set up logger\n",
    "logging.basicConfig(format='%(asctime)s : %(message)s', level=logging.DEBUG)\n",
    "\n",
    "if __name__ == \"__main__\":\n",
    "    se = senteval.engine.SE(params_senteval, batcher, prepare)\n",
    "    \n",
    "    # here you define the NLP taks that your embedding model is going to be evaluated\n",
    "    # in (https://arxiv.org/abs/1802.05883) we use the following :\n",
    "    # SICKRelatedness (Sick-R) needs torch cuda to work (even when using logistic regression), \n",
    "    # but STS14 (semantic textual similarity) is a similar type of semantic task\n",
    "    # transfer_tasks = ['MR', 'CR', 'MPQA', 'SUBJ', 'SST2', 'TREC',\n",
    "    #                   'MRPC', 'SICKEntailment', 'STS14']\n",
    "    transfer_tasks = ['SICKEntailment']\n",
    "    # senteval prints the results and returns a dictionary with the scores\n",
    "    results = se.eval(transfer_tasks)\n",
    "    print(results)"
   ]
  }
 ],
 "metadata": {
  "kernelspec": {
   "display_name": "Python 3",
   "language": "python",
   "name": "python3"
  },
  "language_info": {
   "codemirror_mode": {
    "name": "ipython",
    "version": 3
   },
   "file_extension": ".py",
   "mimetype": "text/x-python",
   "name": "python",
   "nbconvert_exporter": "python",
   "pygments_lexer": "ipython3",
   "version": "3.10.6"
  },
  "orig_nbformat": 4
 },
 "nbformat": 4,
 "nbformat_minor": 2
}
