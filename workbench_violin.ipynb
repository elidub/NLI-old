{
 "cells": [
  {
   "cell_type": "code",
   "execution_count": 1,
   "metadata": {},
   "outputs": [],
   "source": [
    "%load_ext autoreload\n",
    "%autoreload 2"
   ]
  },
  {
   "cell_type": "code",
   "execution_count": 2,
   "metadata": {},
   "outputs": [],
   "source": [
    "# Copyright (c) 2017-present, Facebook, Inc.\n",
    "# All rights reserved.\n",
    "#\n",
    "# This source code is licensed under the license found in the\n",
    "# LICENSE file in the root directory of this source tree.\n",
    "#\n",
    "\n",
    "from __future__ import absolute_import, division, unicode_literals\n",
    "\n",
    "import sys\n",
    "import numpy as np\n",
    "import logging\n",
    "import sklearn\n",
    "from datasets import load_dataset, load_from_disk\n",
    "from tqdm import tqdm\n",
    "import os\n",
    "import json\n",
    "import pytorch_lightning as pl\n",
    "import torch\n",
    "from torch import utils\n",
    "\n",
    "import matplotlib.pyplot as plt\n",
    "\n",
    "\n",
    "sys.path.insert(0, 'nli/')\n",
    "from setup import load_model, prep_sent, find_checkpoint\n",
    "from data import NLIDataModule, DataSetPadding"
   ]
  },
  {
   "cell_type": "code",
   "execution_count": 3,
   "metadata": {},
   "outputs": [],
   "source": [
    "class Args:\n",
    "    def __init__(self, model_type = 'avg_word_emb', ckpt_path = None, version = 'version_0', path_to_vocab = 'store/vocab.pkl', num_workers = 3):\n",
    "        self.model_type = model_type\n",
    "        self.ckpt_path = model_type if ckpt_path is None else ckpt_path\n",
    "        self.version = version\n",
    "        self.path_to_vocab = path_to_vocab\n",
    "        self.num_workers = num_workers\n",
    "\n",
    "args = Args('avg_word_emb')"
   ]
  },
  {
   "cell_type": "code",
   "execution_count": null,
   "metadata": {},
   "outputs": [],
   "source": [
    "class NLIResults:\n",
    "    def __init__(self, args):\n",
    "\n",
    "        self.model, vocab = load_model(args.model_type, args.path_to_vocab, args.ckpt_path, args.version)\n",
    "        self.datamodule = NLIDataModule(vocab=vocab, batch_size=64, num_workers=args.num_workers)\n",
    "        self.trainer = pl.Trainer(\n",
    "            logger = False,\n",
    "            accelerator='gpu' if torch.cuda.is_available() else 'cpu',\n",
    "        )\n",
    "\n",
    "    def test(self):\n",
    "        test_acc = self.trainer.test(self.model, datamodule=self.datamodule, verbose = False)[0]['test_acc']\n",
    "        return test_acc\n",
    "    \n",
    "    def validate(self):\n",
    "        val_acc = self.trainer.validate(self.model, datamodule=self.datamodule, verbose = False)[0]['val_acc']\n",
    "        return val_acc\n",
    "    \n",
    "    def get_nli_accs(self):\n",
    "        return {'val': self.validate()*100., 'test': self.test()*100., }\n",
    "    \n",
    "    def get_nli_preds(self):\n",
    "        y_hat, y = self.trainer.predict(self.model, datamodule=self.datamodule)[0]\n",
    "        y_pred = torch.nn.functional.softmax(y_hat, dim=1)\n",
    "        return y_pred"
   ]
  }
 ],
 "metadata": {
  "kernelspec": {
   "display_name": "Python 3",
   "language": "python",
   "name": "python3"
  },
  "language_info": {
   "codemirror_mode": {
    "name": "ipython",
    "version": 3
   },
   "file_extension": ".py",
   "mimetype": "text/x-python",
   "name": "python",
   "nbconvert_exporter": "python",
   "pygments_lexer": "ipython3",
   "version": "3.10.6"
  },
  "orig_nbformat": 4
 },
 "nbformat": 4,
 "nbformat_minor": 2
}
