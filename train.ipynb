{
 "cells": [
  {
   "cell_type": "code",
   "execution_count": 13,
   "metadata": {},
   "outputs": [
    {
     "name": "stdout",
     "output_type": "stream",
     "text": [
      "The autoreload extension is already loaded. To reload it, use:\n",
      "  %reload_ext autoreload\n"
     ]
    }
   ],
   "source": [
    "%load_ext autoreload\n",
    "%autoreload 2\n",
    "\n",
    "from datasets import load_from_disk\n",
    "import pickle\n",
    "import torch\n",
    "from torch import utils\n",
    "import pytorch_lightning as pl\n",
    "\n",
    "from nli.data import DataSetPadding\n",
    "from nli.models import AvgWordEmb, UniLSTM, BiLSTM, MaxPoolLSTM, MLP\n",
    "from nli.learner import NLINet"
   ]
  },
  {
   "cell_type": "code",
   "execution_count": 14,
   "metadata": {},
   "outputs": [],
   "source": [
    "with open('store/wordvec.pkl', 'rb') as f:\n",
    "    wordvec = pickle.load(f)\n",
    "dataset_snli = load_from_disk('data/snli')"
   ]
  },
  {
   "cell_type": "code",
   "execution_count": 15,
   "metadata": {},
   "outputs": [],
   "source": [
    "dataloader = {}\n",
    "for split, shuffle in zip(['train', 'validation'], [True, False]):\n",
    "    dataset = DataSetPadding(dataset_snli[split], wordvec)\n",
    "    if split == 'train':\n",
    "        dataset = utils.data.Subset(dataset, range(10000))\n",
    "    dataloader[split] = utils.data.DataLoader(dataset, batch_size=64, shuffle=shuffle, num_workers=3)"
   ]
  },
  {
   "cell_type": "code",
   "execution_count": 16,
   "metadata": {},
   "outputs": [
    {
     "name": "stderr",
     "output_type": "stream",
     "text": [
      "GPU available: False, used: False\n",
      "TPU available: False, using: 0 TPU cores\n",
      "IPU available: False, using: 0 IPUs\n",
      "HPU available: False, using: 0 HPUs\n",
      "\n",
      "  | Name       | Type             | Params\n",
      "------------------------------------------------\n",
      "0 | encoder    | MaxPoolLSTM      | 38.5 M\n",
      "1 | classifier | MLP              | 8.7 M \n",
      "2 | loss_fn    | CrossEntropyLoss | 0     \n",
      "------------------------------------------------\n",
      "47.2 M    Trainable params\n",
      "0         Non-trainable params\n",
      "47.2 M    Total params\n",
      "188.623   Total estimated model params size (MB)\n"
     ]
    },
    {
     "data": {
      "application/vnd.jupyter.widget-view+json": {
       "model_id": "c19737c7aa0943dc8bad79390571467a",
       "version_major": 2,
       "version_minor": 0
      },
      "text/plain": [
       "Sanity Checking: 0it [00:00, ?it/s]"
      ]
     },
     "metadata": {},
     "output_type": "display_data"
    },
    {
     "name": "stdout",
     "output_type": "stream",
     "text": [
      "u shape torch.Size([64, 4096])\n",
      "u shape torch.Size([64, 4096])\n"
     ]
    },
    {
     "data": {
      "application/vnd.jupyter.widget-view+json": {
       "model_id": "a3cd12ba25de4cffaaa6c7c7e14a03f6",
       "version_major": 2,
       "version_minor": 0
      },
      "text/plain": [
       "Training: 0it [00:00, ?it/s]"
      ]
     },
     "metadata": {},
     "output_type": "display_data"
    },
    {
     "name": "stdout",
     "output_type": "stream",
     "text": [
      "u shape torch.Size([64, 4096])\n"
     ]
    }
   ],
   "source": [
    "# encoder = AvgWordEmb()\n",
    "# classifier = MLP(300*4, 512, 3)\n",
    "\n",
    "# encoder = UniLSTM()\n",
    "# classifier = MLP(2048*4, 512, 3)\n",
    "\n",
    "# encoder = BiLSTM()\n",
    "# classifier = MLP(2048*4*2, 512, 3)\n",
    "\n",
    "encoder = MaxPoolLSTM()\n",
    "classifier = MLP(2048*4*2, 512, 3)\n",
    "\n",
    "\n",
    "model = NLINet(encoder, classifier)\n",
    "\n",
    "device = 'gpu' if torch.cuda.is_available() else 'cpu'\n",
    "trainer = pl.Trainer(max_epochs=10, log_every_n_steps=1, accelerator=device, enable_checkpointing=False)\n",
    "trainer.fit(model, train_dataloaders = dataloader['train'], val_dataloaders = dataloader['validation'])"
   ]
  }
 ],
 "metadata": {
  "kernelspec": {
   "display_name": "Python 3",
   "language": "python",
   "name": "python3"
  },
  "language_info": {
   "codemirror_mode": {
    "name": "ipython",
    "version": 3
   },
   "file_extension": ".py",
   "mimetype": "text/x-python",
   "name": "python",
   "nbconvert_exporter": "python",
   "pygments_lexer": "ipython3",
   "version": "3.10.6"
  },
  "orig_nbformat": 4
 },
 "nbformat": 4,
 "nbformat_minor": 2
}
