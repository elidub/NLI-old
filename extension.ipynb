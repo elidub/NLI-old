{
 "cells": [
  {
   "attachments": {},
   "cell_type": "markdown",
   "metadata": {},
   "source": [
    "In the original model, the sentence representations are concatenated as\n",
    "\n",
    "$$\n",
    "\\text{features} = \\text{concat}(u, v, u \\odot v, |u - v|)\n",
    "$$\n",
    "\n",
    "where $u$ and $v$ are the sentence representations, $\\odot$ is the element-wise product, and $|$ is the absolute value. These features are then passed through the MLP. The multiplication and substraction operations are used to capture the built inductive biases of the model. The multiplication operation captures the similarity between the two sentences, while the substraction operation captures the difference between the two sentences.\n",
    "\n",
    "We are going to highlight two \n",
    "\n",
    "1. Positional embedding\n",
    "2. More flexible inductive bias\n",
    "\n",
    "However, this inductive bias is not structured, as all the elements are concatenated together and presented to the MLP. It could be that "
   ]
  }
 ],
 "metadata": {
  "language_info": {
   "name": "python"
  },
  "orig_nbformat": 4
 },
 "nbformat": 4,
 "nbformat_minor": 2
}
